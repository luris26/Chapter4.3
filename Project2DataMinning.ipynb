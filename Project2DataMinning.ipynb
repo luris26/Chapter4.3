{
  "nbformat": 4,
  "nbformat_minor": 0,
  "metadata": {
    "colab": {
      "provenance": [],
      "authorship_tag": "ABX9TyMRW5g0UHpsNdiiRe4WmMVb",
      "include_colab_link": true
    },
    "kernelspec": {
      "name": "python3",
      "display_name": "Python 3"
    },
    "language_info": {
      "name": "python"
    }
  },
  "cells": [
    {
      "cell_type": "markdown",
      "metadata": {
        "id": "view-in-github",
        "colab_type": "text"
      },
      "source": [
        "<a href=\"https://colab.research.google.com/github/luris26/Chapter4.3/blob/main/Project2DataMinning.ipynb\" target=\"_parent\"><img src=\"https://colab.research.google.com/assets/colab-badge.svg\" alt=\"Open In Colab\"/></a>"
      ]
    },
    {
      "cell_type": "code",
      "source": [
        "import pandas as pd\n",
        "import numpy as np\n",
        "\n",
        "url = \"https://raw.githubusercontent.com/drolsonmi/math3280/master/Projects/GameOfThrones1.csv\"\n",
        "df = pd.read_csv(url)\n",
        "\n",
        "# Create a list of unique nodes (characters)\n",
        "unique_characters = pd.unique(df[['Source', 'Target']].values.ravel('K'))\n",
        "\n",
        "# Create a square transition matrix\n",
        "transition_matrix = df.pivot_table(index='Source', columns='Target', values='weight', aggfunc='sum', fill_value=0)\n",
        "transition_matrix = transition_matrix.reindex(index=unique_characters, columns=unique_characters, fill_value=0)\n",
        "N = len(unique_characters)\n",
        "\n",
        "v = np.ones((N, 1)) / N\n",
        "e = np.ones((N, 1))\n",
        "\n",
        "beta = 0.8\n",
        "\n",
        "# Number of iterations\n",
        "iterations = 20\n",
        "\n",
        "# Web surfer steps\n",
        "for i in range(iterations):\n",
        "    v = beta * np.dot(transition_matrix, v) + (1 - beta) * (e / N)\n",
        "\n",
        "# Find the character with the highest PageRank score\n",
        "most_important_character_index = np.argmax(v)\n",
        "most_important_character = unique_characters[most_important_character_index]\n",
        "\n",
        "# Print the most important character and their PageRank score\n",
        "print(f\"The most important character is '{most_important_character}' with a PageRank score of {v[most_important_character_index][0]:.4f}\")\n"
      ],
      "metadata": {
        "colab": {
          "base_uri": "https://localhost:8080/"
        },
        "id": "VLswxXHAk-zd",
        "outputId": "503f96d1-ed4a-4584-b6d7-ef65e8968e25"
      },
      "execution_count": 46,
      "outputs": [
        {
          "output_type": "stream",
          "name": "stdout",
          "text": [
            "The most important character is 'Arya-Stark' with a PageRank score of 37266328399037448.0000\n"
          ]
        }
      ]
    },
    {
      "cell_type": "code",
      "source": [
        "#Dead Ends\n",
        "for i in range(60):\n",
        "    v = np.matmul(transition_matrix, v)\n",
        "    #print(v)"
      ],
      "metadata": {
        "id": "WlYF8mkOy3wT"
      },
      "execution_count": null,
      "outputs": []
    },
    {
      "cell_type": "code",
      "source": [
        "#Spider traps\n",
        "for i in range(60):\n",
        "    v = np.matmul(transition_matrix, v)\n",
        "   #print(v)"
      ],
      "metadata": {
        "id": "aoBmZcVx4Gwe"
      },
      "execution_count": null,
      "outputs": []
    }
  ]
}